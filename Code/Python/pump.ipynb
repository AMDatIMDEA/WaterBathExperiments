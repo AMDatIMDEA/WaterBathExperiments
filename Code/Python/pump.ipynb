{
 "cells": [
  {
   "cell_type": "code",
   "execution_count": null,
   "id": "45ada499-49a7-4509-b5bd-c84845a1122d",
   "metadata": {},
   "outputs": [],
   "source": [
    "#pip install pyserial"
   ]
  },
  {
   "cell_type": "code",
   "execution_count": null,
   "id": "9a2035e2-4dfd-4e5e-a384-e150f0a17263",
   "metadata": {},
   "outputs": [],
   "source": [
    "import serial \n",
    "import time \n",
    "arduino = serial.Serial(port='COM5', baudrate=9600, timeout=.1) \n",
    "def bath(x):\n",
    "    arduino.flushOutput()\n",
    "    arduino.write(bytes(x, 'utf-8'))  \n",
    "    time.sleep(.5)  \n",
    "\n",
    "    data = arduino.readall().decode().strip()\n",
    "    \n",
    "    return data"
   ]
  },
  {
   "cell_type": "code",
   "execution_count": null,
   "id": "2e02517b-b387-4a8e-a4da-d5233c4ae636",
   "metadata": {},
   "outputs": [],
   "source": [
    "bath('pump\\r\\n')"
   ]
  },
  {
   "cell_type": "code",
   "execution_count": null,
   "id": "8734353f-54dd-4155-8448-d6199ffd6499",
   "metadata": {},
   "outputs": [],
   "source": [
    "bath('stop\\r\\n')"
   ]
  },
  {
   "cell_type": "code",
   "execution_count": null,
   "id": "11bfdf6a-1700-4c34-a3b8-071cf97aa1b7",
   "metadata": {},
   "outputs": [],
   "source": [
    "bath('temp\\r\\n')"
   ]
  },
  {
   "cell_type": "code",
   "execution_count": null,
   "id": "2d4db37a-af2d-434d-812d-29616be4c723",
   "metadata": {},
   "outputs": [],
   "source": [
    "bath('open valve\\r\\n')"
   ]
  },
  {
   "cell_type": "code",
   "execution_count": null,
   "id": "abbdf59d-bed8-44b3-a753-eb0106a8fb31",
   "metadata": {},
   "outputs": [],
   "source": [
    "bath('close valve\\r\\n')"
   ]
  }
 ],
 "metadata": {
  "kernelspec": {
   "display_name": "Python 3 (ipykernel)",
   "language": "python",
   "name": "python3"
  },
  "language_info": {
   "codemirror_mode": {
    "name": "ipython",
    "version": 3
   },
   "file_extension": ".py",
   "mimetype": "text/x-python",
   "name": "python",
   "nbconvert_exporter": "python",
   "pygments_lexer": "ipython3",
   "version": "3.11.7"
  }
 },
 "nbformat": 4,
 "nbformat_minor": 5
}
