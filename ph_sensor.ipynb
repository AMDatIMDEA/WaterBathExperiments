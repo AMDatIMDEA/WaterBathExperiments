{
 "cells": [
  {
   "cell_type": "code",
   "execution_count": 1,
   "id": "a7bc25b6-0f5e-4326-bece-e4f7f10ff40d",
   "metadata": {},
   "outputs": [],
   "source": [
    "#pip install pyserial"
   ]
  },
  {
   "cell_type": "code",
   "execution_count": 1,
   "id": "fa703694-3784-4edd-a3e5-234752b05a20",
   "metadata": {},
   "outputs": [],
   "source": [
    "import serial \n",
    "import time \n",
    "arduino = serial.Serial(port='COM4', baudrate=115200, timeout=.1) \n",
    "def sensor(x):\n",
    "    arduino.flushOutput()\n",
    "    arduino.write(bytes(x, 'utf-8'))  \n",
    "    time.sleep(.5)  \n",
    "    \n",
    "    data = arduino.readall().decode().strip()\n",
    "    \n",
    "    return data\n"
   ]
  },
  {
   "cell_type": "code",
   "execution_count": 11,
   "id": "bdab49e0-e146-4d90-9c3f-39b96cea34a4",
   "metadata": {},
   "outputs": [
    {
     "data": {
      "text/plain": [
       "'pH:15.45     Voltage:0.00mV'"
      ]
     },
     "execution_count": 11,
     "metadata": {},
     "output_type": "execute_result"
    }
   ],
   "source": [
    "sensor('ph\\r\\n')"
   ]
  },
  {
   "cell_type": "code",
   "execution_count": 10,
   "id": "441c082d-1f3a-48af-9a32-8e92758cad0d",
   "metadata": {},
   "outputs": [
    {
     "data": {
      "text/plain": [
       "'Temperature at sensor 0: 24.87 ºC'"
      ]
     },
     "execution_count": 10,
     "metadata": {},
     "output_type": "execute_result"
    }
   ],
   "source": [
    "sensor('temp\\r\\n')"
   ]
  },
  {
   "cell_type": "code",
   "execution_count": null,
   "id": "d1b3753b-0723-45ac-85c2-b87b877a03f9",
   "metadata": {},
   "outputs": [],
   "source": []
  }
 ],
 "metadata": {
  "kernelspec": {
   "display_name": "Python 3 (ipykernel)",
   "language": "python",
   "name": "python3"
  },
  "language_info": {
   "codemirror_mode": {
    "name": "ipython",
    "version": 3
   },
   "file_extension": ".py",
   "mimetype": "text/x-python",
   "name": "python",
   "nbconvert_exporter": "python",
   "pygments_lexer": "ipython3",
   "version": "3.11.7"
  }
 },
 "nbformat": 4,
 "nbformat_minor": 5
}
