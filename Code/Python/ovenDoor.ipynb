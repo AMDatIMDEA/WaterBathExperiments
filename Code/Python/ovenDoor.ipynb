{
 "cells": [
  {
   "cell_type": "code",
   "execution_count": null,
   "id": "b2b79773-982d-4a44-91c7-db04b964caac",
   "metadata": {},
   "outputs": [],
   "source": [
    "pip install pyserial"
   ]
  },
  {
   "cell_type": "code",
   "execution_count": null,
   "id": "f7a39d89-c56b-45f8-8453-54072dedb618",
   "metadata": {},
   "outputs": [],
   "source": [
    "arduino.flush()"
   ]
  },
  {
   "cell_type": "code",
   "execution_count": null,
   "id": "9cbead60-4e71-448a-9eb0-65d75361843d",
   "metadata": {},
   "outputs": [],
   "source": [
    "import serial \n",
    "import time \n",
    "arduino = serial.Serial(port='COM3', baudrate=9600, timeout=.1) \n",
    "def door(x): \n",
    "\t   arduino.write(bytes(x, 'utf-8')) \n",
    "\t   time.sleep(0.05) \n",
    "\t   data = arduino.readline() \n",
    "\t   return data \n"
   ]
  },
  {
   "cell_type": "code",
   "execution_count": null,
   "id": "085f70f7-4a73-4eca-aaa3-8660f4d6260f",
   "metadata": {},
   "outputs": [],
   "source": [
    "door('O')"
   ]
  },
  {
   "cell_type": "code",
   "execution_count": null,
   "id": "8a6bc4f8-ed31-40eb-a54b-8fd253a7d8bb",
   "metadata": {},
   "outputs": [],
   "source": [
    "door('C')"
   ]
  },
  {
   "cell_type": "code",
   "execution_count": null,
   "id": "649fcd3e-ff8a-412f-8c85-d07687c16c2a",
   "metadata": {},
   "outputs": [],
   "source": []
  }
 ],
 "metadata": {
  "kernelspec": {
   "display_name": "Python 3 (ipykernel)",
   "language": "python",
   "name": "python3"
  },
  "language_info": {
   "codemirror_mode": {
    "name": "ipython",
    "version": 3
   },
   "file_extension": ".py",
   "mimetype": "text/x-python",
   "name": "python",
   "nbconvert_exporter": "python",
   "pygments_lexer": "ipython3",
   "version": "3.11.7"
  }
 },
 "nbformat": 4,
 "nbformat_minor": 5
}
